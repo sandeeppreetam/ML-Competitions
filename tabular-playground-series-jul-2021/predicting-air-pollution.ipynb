{
 "cells": [
  {
   "cell_type": "code",
   "execution_count": 26,
   "metadata": {},
   "outputs": [],
   "source": [
    "import pandas as pd\n",
    "import numpy as np\n",
    "import matplotlib.pyplot as plt\n",
    "import seaborn as sns\n",
    "\n",
    "%matplotlib inline"
   ]
  },
  {
   "cell_type": "code",
   "execution_count": 38,
   "metadata": {},
   "outputs": [
    {
     "name": "stdout",
     "output_type": "stream",
     "text": [
      "Collecting kaggle\n",
      "  Downloading kaggle-1.5.12.tar.gz (58 kB)\n",
      "Requirement already satisfied: six>=1.10 in c:\\users\\convergytics\\anaconda3\\lib\\site-packages (from kaggle) (1.15.0)\n",
      "Requirement already satisfied: certifi in c:\\users\\convergytics\\anaconda3\\lib\\site-packages (from kaggle) (2020.6.20)\n",
      "Requirement already satisfied: python-dateutil in c:\\users\\convergytics\\anaconda3\\lib\\site-packages (from kaggle) (2.8.1)\n",
      "Requirement already satisfied: requests in c:\\users\\convergytics\\anaconda3\\lib\\site-packages (from kaggle) (2.24.0)\n",
      "Requirement already satisfied: tqdm in c:\\users\\convergytics\\anaconda3\\lib\\site-packages (from kaggle) (4.50.2)\n",
      "Collecting python-slugify\n",
      "  Downloading python_slugify-5.0.2-py2.py3-none-any.whl (6.7 kB)\n",
      "Requirement already satisfied: urllib3 in c:\\users\\convergytics\\anaconda3\\lib\\site-packages (from kaggle) (1.25.11)\n",
      "Requirement already satisfied: chardet<4,>=3.0.2 in c:\\users\\convergytics\\anaconda3\\lib\\site-packages (from requests->kaggle) (3.0.4)\n",
      "Requirement already satisfied: idna<3,>=2.5 in c:\\users\\convergytics\\anaconda3\\lib\\site-packages (from requests->kaggle) (2.10)\n",
      "Collecting text-unidecode>=1.3\n",
      "  Downloading text_unidecode-1.3-py2.py3-none-any.whl (78 kB)\n",
      "Building wheels for collected packages: kaggle\n",
      "  Building wheel for kaggle (setup.py): started\n",
      "  Building wheel for kaggle (setup.py): finished with status 'done'\n",
      "  Created wheel for kaggle: filename=kaggle-1.5.12-py3-none-any.whl size=73057 sha256=52510676de3ab16bce4ebeaa886d33fc9ab8a0ce0c252bb68800d417d8f258f4\n",
      "  Stored in directory: c:\\users\\convergytics\\appdata\\local\\pip\\cache\\wheels\\29\\da\\11\\144cc25aebdaeb4931b231e25fd34b394e6a5725cbb2f50106\n",
      "Successfully built kaggle\n",
      "Installing collected packages: text-unidecode, python-slugify, kaggle\n",
      "Successfully installed kaggle-1.5.12 python-slugify-5.0.2 text-unidecode-1.3\n",
      "Note: you may need to restart the kernel to use updated packages.\n"
     ]
    }
   ],
   "source": [
    "pip install kaggle"
   ]
  },
  {
   "cell_type": "code",
   "execution_count": 27,
   "metadata": {},
   "outputs": [],
   "source": [
    "df = pd.read_csv('train.csv')"
   ]
  },
  {
   "cell_type": "markdown",
   "metadata": {},
   "source": [
    "# ETL"
   ]
  },
  {
   "cell_type": "code",
   "execution_count": 37,
   "metadata": {},
   "outputs": [
    {
     "data": {
      "text/html": [
       "<div>\n",
       "<style scoped>\n",
       "    .dataframe tbody tr th:only-of-type {\n",
       "        vertical-align: middle;\n",
       "    }\n",
       "\n",
       "    .dataframe tbody tr th {\n",
       "        vertical-align: top;\n",
       "    }\n",
       "\n",
       "    .dataframe thead th {\n",
       "        text-align: right;\n",
       "    }\n",
       "</style>\n",
       "<table border=\"1\" class=\"dataframe\">\n",
       "  <thead>\n",
       "    <tr style=\"text-align: right;\">\n",
       "      <th></th>\n",
       "      <th>deg_C</th>\n",
       "      <th>relative_humidity</th>\n",
       "      <th>absolute_humidity</th>\n",
       "      <th>sensor_1</th>\n",
       "      <th>sensor_2</th>\n",
       "      <th>sensor_3</th>\n",
       "      <th>sensor_4</th>\n",
       "      <th>sensor_5</th>\n",
       "      <th>target_carbon_monoxide</th>\n",
       "      <th>target_benzene</th>\n",
       "      <th>target_nitrogen_oxides</th>\n",
       "    </tr>\n",
       "  </thead>\n",
       "  <tbody>\n",
       "    <tr>\n",
       "      <th>count</th>\n",
       "      <td>7111.000000</td>\n",
       "      <td>7111.000000</td>\n",
       "      <td>7111.000000</td>\n",
       "      <td>7111.000000</td>\n",
       "      <td>7111.000000</td>\n",
       "      <td>7111.000000</td>\n",
       "      <td>7111.000000</td>\n",
       "      <td>7111.000000</td>\n",
       "      <td>7111.000000</td>\n",
       "      <td>7111.000000</td>\n",
       "      <td>7111.000000</td>\n",
       "    </tr>\n",
       "    <tr>\n",
       "      <th>mean</th>\n",
       "      <td>20.878034</td>\n",
       "      <td>47.561004</td>\n",
       "      <td>1.110309</td>\n",
       "      <td>1091.572100</td>\n",
       "      <td>938.064970</td>\n",
       "      <td>883.903305</td>\n",
       "      <td>1513.238349</td>\n",
       "      <td>998.335565</td>\n",
       "      <td>2.086219</td>\n",
       "      <td>10.237083</td>\n",
       "      <td>204.066784</td>\n",
       "    </tr>\n",
       "    <tr>\n",
       "      <th>std</th>\n",
       "      <td>7.937917</td>\n",
       "      <td>17.398731</td>\n",
       "      <td>0.398950</td>\n",
       "      <td>218.537554</td>\n",
       "      <td>281.978988</td>\n",
       "      <td>310.456355</td>\n",
       "      <td>350.180310</td>\n",
       "      <td>381.537695</td>\n",
       "      <td>1.447109</td>\n",
       "      <td>7.694426</td>\n",
       "      <td>193.927723</td>\n",
       "    </tr>\n",
       "    <tr>\n",
       "      <th>min</th>\n",
       "      <td>1.300000</td>\n",
       "      <td>8.900000</td>\n",
       "      <td>0.198800</td>\n",
       "      <td>620.300000</td>\n",
       "      <td>364.000000</td>\n",
       "      <td>310.600000</td>\n",
       "      <td>552.900000</td>\n",
       "      <td>242.700000</td>\n",
       "      <td>0.100000</td>\n",
       "      <td>0.100000</td>\n",
       "      <td>1.900000</td>\n",
       "    </tr>\n",
       "    <tr>\n",
       "      <th>25%</th>\n",
       "      <td>14.900000</td>\n",
       "      <td>33.700000</td>\n",
       "      <td>0.855900</td>\n",
       "      <td>930.250000</td>\n",
       "      <td>734.900000</td>\n",
       "      <td>681.050000</td>\n",
       "      <td>1320.350000</td>\n",
       "      <td>722.850000</td>\n",
       "      <td>1.000000</td>\n",
       "      <td>4.500000</td>\n",
       "      <td>76.450000</td>\n",
       "    </tr>\n",
       "    <tr>\n",
       "      <th>50%</th>\n",
       "      <td>20.700000</td>\n",
       "      <td>47.300000</td>\n",
       "      <td>1.083500</td>\n",
       "      <td>1060.500000</td>\n",
       "      <td>914.200000</td>\n",
       "      <td>827.800000</td>\n",
       "      <td>1513.100000</td>\n",
       "      <td>928.700000</td>\n",
       "      <td>1.700000</td>\n",
       "      <td>8.500000</td>\n",
       "      <td>141.000000</td>\n",
       "    </tr>\n",
       "    <tr>\n",
       "      <th>75%</th>\n",
       "      <td>25.800000</td>\n",
       "      <td>60.800000</td>\n",
       "      <td>1.404150</td>\n",
       "      <td>1215.800000</td>\n",
       "      <td>1124.100000</td>\n",
       "      <td>1008.850000</td>\n",
       "      <td>1720.400000</td>\n",
       "      <td>1224.700000</td>\n",
       "      <td>2.800000</td>\n",
       "      <td>14.200000</td>\n",
       "      <td>260.000000</td>\n",
       "    </tr>\n",
       "    <tr>\n",
       "      <th>max</th>\n",
       "      <td>46.100000</td>\n",
       "      <td>90.800000</td>\n",
       "      <td>2.231000</td>\n",
       "      <td>2088.300000</td>\n",
       "      <td>2302.600000</td>\n",
       "      <td>2567.400000</td>\n",
       "      <td>2913.800000</td>\n",
       "      <td>2594.600000</td>\n",
       "      <td>12.500000</td>\n",
       "      <td>63.700000</td>\n",
       "      <td>1472.300000</td>\n",
       "    </tr>\n",
       "  </tbody>\n",
       "</table>\n",
       "</div>"
      ],
      "text/plain": [
       "             deg_C  relative_humidity  absolute_humidity     sensor_1  \\\n",
       "count  7111.000000        7111.000000        7111.000000  7111.000000   \n",
       "mean     20.878034          47.561004           1.110309  1091.572100   \n",
       "std       7.937917          17.398731           0.398950   218.537554   \n",
       "min       1.300000           8.900000           0.198800   620.300000   \n",
       "25%      14.900000          33.700000           0.855900   930.250000   \n",
       "50%      20.700000          47.300000           1.083500  1060.500000   \n",
       "75%      25.800000          60.800000           1.404150  1215.800000   \n",
       "max      46.100000          90.800000           2.231000  2088.300000   \n",
       "\n",
       "          sensor_2     sensor_3     sensor_4     sensor_5  \\\n",
       "count  7111.000000  7111.000000  7111.000000  7111.000000   \n",
       "mean    938.064970   883.903305  1513.238349   998.335565   \n",
       "std     281.978988   310.456355   350.180310   381.537695   \n",
       "min     364.000000   310.600000   552.900000   242.700000   \n",
       "25%     734.900000   681.050000  1320.350000   722.850000   \n",
       "50%     914.200000   827.800000  1513.100000   928.700000   \n",
       "75%    1124.100000  1008.850000  1720.400000  1224.700000   \n",
       "max    2302.600000  2567.400000  2913.800000  2594.600000   \n",
       "\n",
       "       target_carbon_monoxide  target_benzene  target_nitrogen_oxides  \n",
       "count             7111.000000     7111.000000             7111.000000  \n",
       "mean                 2.086219       10.237083              204.066784  \n",
       "std                  1.447109        7.694426              193.927723  \n",
       "min                  0.100000        0.100000                1.900000  \n",
       "25%                  1.000000        4.500000               76.450000  \n",
       "50%                  1.700000        8.500000              141.000000  \n",
       "75%                  2.800000       14.200000              260.000000  \n",
       "max                 12.500000       63.700000             1472.300000  "
      ]
     },
     "execution_count": 37,
     "metadata": {},
     "output_type": "execute_result"
    }
   ],
   "source": [
    "df.describe()"
   ]
  },
  {
   "cell_type": "code",
   "execution_count": null,
   "metadata": {
    "scrolled": false
   },
   "outputs": [],
   "source": [
    "pd.plotting.scatter_matrix(df.loc[:,:], figsize=(16, 10))\n",
    "plt.show()"
   ]
  },
  {
   "cell_type": "code",
   "execution_count": null,
   "metadata": {},
   "outputs": [],
   "source": [
    "corr = df.corr()"
   ]
  },
  {
   "cell_type": "code",
   "execution_count": null,
   "metadata": {},
   "outputs": [],
   "source": [
    "sns.heatmap(corr,cmap=sns.diverging_palette(20, 220, n=200))"
   ]
  },
  {
   "cell_type": "code",
   "execution_count": null,
   "metadata": {},
   "outputs": [],
   "source": [
    "abs(corr.target_carbon_monoxide).sort_values()"
   ]
  },
  {
   "cell_type": "code",
   "execution_count": null,
   "metadata": {},
   "outputs": [],
   "source": [
    "abs(corr.target_benzene).sort_values()"
   ]
  },
  {
   "cell_type": "code",
   "execution_count": null,
   "metadata": {},
   "outputs": [],
   "source": [
    "abs(corr.target_nitrogen_oxides).sort_values()"
   ]
  },
  {
   "cell_type": "markdown",
   "metadata": {},
   "source": [
    "# Modelling"
   ]
  },
  {
   "cell_type": "code",
   "execution_count": 28,
   "metadata": {},
   "outputs": [],
   "source": [
    "x = df.loc[:,'deg_C':'sensor_5']\n",
    "test = pd.read_csv('test.csv')"
   ]
  },
  {
   "cell_type": "code",
   "execution_count": 29,
   "metadata": {},
   "outputs": [
    {
     "data": {
      "text/html": [
       "<div>\n",
       "<style scoped>\n",
       "    .dataframe tbody tr th:only-of-type {\n",
       "        vertical-align: middle;\n",
       "    }\n",
       "\n",
       "    .dataframe tbody tr th {\n",
       "        vertical-align: top;\n",
       "    }\n",
       "\n",
       "    .dataframe thead th {\n",
       "        text-align: right;\n",
       "    }\n",
       "</style>\n",
       "<table border=\"1\" class=\"dataframe\">\n",
       "  <thead>\n",
       "    <tr style=\"text-align: right;\">\n",
       "      <th></th>\n",
       "      <th>date_time</th>\n",
       "      <th>deg_C</th>\n",
       "      <th>relative_humidity</th>\n",
       "      <th>absolute_humidity</th>\n",
       "      <th>sensor_1</th>\n",
       "      <th>sensor_2</th>\n",
       "      <th>sensor_3</th>\n",
       "      <th>sensor_4</th>\n",
       "      <th>sensor_5</th>\n",
       "    </tr>\n",
       "  </thead>\n",
       "  <tbody>\n",
       "    <tr>\n",
       "      <th>0</th>\n",
       "      <td>2011-01-01 00:00:00</td>\n",
       "      <td>8.0</td>\n",
       "      <td>41.3</td>\n",
       "      <td>0.4375</td>\n",
       "      <td>1108.8</td>\n",
       "      <td>745.7</td>\n",
       "      <td>797.1</td>\n",
       "      <td>880.0</td>\n",
       "      <td>1273.1</td>\n",
       "    </tr>\n",
       "    <tr>\n",
       "      <th>1</th>\n",
       "      <td>2011-01-01 01:00:00</td>\n",
       "      <td>5.1</td>\n",
       "      <td>51.7</td>\n",
       "      <td>0.4564</td>\n",
       "      <td>1249.5</td>\n",
       "      <td>864.9</td>\n",
       "      <td>687.9</td>\n",
       "      <td>972.8</td>\n",
       "      <td>1714.0</td>\n",
       "    </tr>\n",
       "    <tr>\n",
       "      <th>2</th>\n",
       "      <td>2011-01-01 02:00:00</td>\n",
       "      <td>5.8</td>\n",
       "      <td>51.5</td>\n",
       "      <td>0.4689</td>\n",
       "      <td>1102.6</td>\n",
       "      <td>878.0</td>\n",
       "      <td>693.7</td>\n",
       "      <td>941.9</td>\n",
       "      <td>1300.8</td>\n",
       "    </tr>\n",
       "    <tr>\n",
       "      <th>3</th>\n",
       "      <td>2011-01-01 03:00:00</td>\n",
       "      <td>5.0</td>\n",
       "      <td>52.3</td>\n",
       "      <td>0.4693</td>\n",
       "      <td>1139.7</td>\n",
       "      <td>916.2</td>\n",
       "      <td>725.6</td>\n",
       "      <td>1011.0</td>\n",
       "      <td>1283.0</td>\n",
       "    </tr>\n",
       "    <tr>\n",
       "      <th>4</th>\n",
       "      <td>2011-01-01 04:00:00</td>\n",
       "      <td>4.5</td>\n",
       "      <td>57.5</td>\n",
       "      <td>0.4650</td>\n",
       "      <td>1022.4</td>\n",
       "      <td>838.5</td>\n",
       "      <td>871.5</td>\n",
       "      <td>967.0</td>\n",
       "      <td>1142.3</td>\n",
       "    </tr>\n",
       "  </tbody>\n",
       "</table>\n",
       "</div>"
      ],
      "text/plain": [
       "             date_time  deg_C  relative_humidity  absolute_humidity  sensor_1  \\\n",
       "0  2011-01-01 00:00:00    8.0               41.3             0.4375    1108.8   \n",
       "1  2011-01-01 01:00:00    5.1               51.7             0.4564    1249.5   \n",
       "2  2011-01-01 02:00:00    5.8               51.5             0.4689    1102.6   \n",
       "3  2011-01-01 03:00:00    5.0               52.3             0.4693    1139.7   \n",
       "4  2011-01-01 04:00:00    4.5               57.5             0.4650    1022.4   \n",
       "\n",
       "   sensor_2  sensor_3  sensor_4  sensor_5  \n",
       "0     745.7     797.1     880.0    1273.1  \n",
       "1     864.9     687.9     972.8    1714.0  \n",
       "2     878.0     693.7     941.9    1300.8  \n",
       "3     916.2     725.6    1011.0    1283.0  \n",
       "4     838.5     871.5     967.0    1142.3  "
      ]
     },
     "execution_count": 29,
     "metadata": {},
     "output_type": "execute_result"
    }
   ],
   "source": [
    "test.head()"
   ]
  },
  {
   "cell_type": "code",
   "execution_count": 30,
   "metadata": {},
   "outputs": [],
   "source": [
    "Y1 = df.target_benzene\n",
    "Y2 = df.target_carbon_monoxide\n",
    "Y3 = df.target_nitrogen_oxides"
   ]
  },
  {
   "cell_type": "code",
   "execution_count": 31,
   "metadata": {},
   "outputs": [],
   "source": [
    "from sklearn.neighbors import KNeighborsRegressor\n",
    "knn = KNeighborsRegressor()"
   ]
  },
  {
   "cell_type": "code",
   "execution_count": 32,
   "metadata": {},
   "outputs": [],
   "source": [
    "knn.fit(x,Y1)\n",
    "Y1_pred = knn.predict(test.loc[:,'deg_C':'sensor_5'])\n",
    "\n",
    "knn.fit(x,Y2)\n",
    "Y2_pred = knn.predict(test.loc[:,'deg_C':'sensor_5'])\n",
    "\n",
    "knn.fit(x,Y3)\n",
    "Y3_pred = knn.predict(test.loc[:,'deg_C':'sensor_5'])"
   ]
  },
  {
   "cell_type": "markdown",
   "metadata": {},
   "source": [
    "# Results"
   ]
  },
  {
   "cell_type": "code",
   "execution_count": 59,
   "metadata": {},
   "outputs": [],
   "source": [
    "result = pd.DataFrame(data={'date_time':test.loc[:,'date_time'],'target_carbon_monoxide':Y1_pred, 'target_benzene':Y2_pred,'target_nitrogen_oxides':Y3_pred})\n"
   ]
  },
  {
   "cell_type": "code",
   "execution_count": 60,
   "metadata": {},
   "outputs": [],
   "source": [
    "result.to_csv('submissions_001.csv',index=False)"
   ]
  },
  {
   "cell_type": "code",
   "execution_count": 53,
   "metadata": {},
   "outputs": [
    {
     "data": {
      "text/plain": [
       "(2247, 4)"
      ]
     },
     "execution_count": 53,
     "metadata": {},
     "output_type": "execute_result"
    }
   ],
   "source": [
    "result.shape"
   ]
  },
  {
   "cell_type": "code",
   "execution_count": 56,
   "metadata": {},
   "outputs": [
    {
     "data": {
      "text/html": [
       "<div>\n",
       "<style scoped>\n",
       "    .dataframe tbody tr th:only-of-type {\n",
       "        vertical-align: middle;\n",
       "    }\n",
       "\n",
       "    .dataframe tbody tr th {\n",
       "        vertical-align: top;\n",
       "    }\n",
       "\n",
       "    .dataframe thead th {\n",
       "        text-align: right;\n",
       "    }\n",
       "</style>\n",
       "<table border=\"1\" class=\"dataframe\">\n",
       "  <thead>\n",
       "    <tr style=\"text-align: right;\">\n",
       "      <th></th>\n",
       "      <th>date_time</th>\n",
       "      <th>target_carbon_monoxide</th>\n",
       "      <th>target_benzene</th>\n",
       "      <th>target_nitrogen_oxides</th>\n",
       "    </tr>\n",
       "  </thead>\n",
       "  <tbody>\n",
       "    <tr>\n",
       "      <th>0</th>\n",
       "      <td>2011-01-01 00:00:00</td>\n",
       "      <td>5.94</td>\n",
       "      <td>1.28</td>\n",
       "      <td>253.96</td>\n",
       "    </tr>\n",
       "    <tr>\n",
       "      <th>1</th>\n",
       "      <td>2011-01-01 01:00:00</td>\n",
       "      <td>8.96</td>\n",
       "      <td>2.64</td>\n",
       "      <td>344.80</td>\n",
       "    </tr>\n",
       "    <tr>\n",
       "      <th>2</th>\n",
       "      <td>2011-01-01 02:00:00</td>\n",
       "      <td>8.16</td>\n",
       "      <td>1.58</td>\n",
       "      <td>339.82</td>\n",
       "    </tr>\n",
       "    <tr>\n",
       "      <th>3</th>\n",
       "      <td>2011-01-01 03:00:00</td>\n",
       "      <td>8.66</td>\n",
       "      <td>1.80</td>\n",
       "      <td>367.22</td>\n",
       "    </tr>\n",
       "    <tr>\n",
       "      <th>4</th>\n",
       "      <td>2011-01-01 04:00:00</td>\n",
       "      <td>6.26</td>\n",
       "      <td>1.46</td>\n",
       "      <td>294.18</td>\n",
       "    </tr>\n",
       "  </tbody>\n",
       "</table>\n",
       "</div>"
      ],
      "text/plain": [
       "             date_time  target_carbon_monoxide  target_benzene  \\\n",
       "0  2011-01-01 00:00:00                    5.94            1.28   \n",
       "1  2011-01-01 01:00:00                    8.96            2.64   \n",
       "2  2011-01-01 02:00:00                    8.16            1.58   \n",
       "3  2011-01-01 03:00:00                    8.66            1.80   \n",
       "4  2011-01-01 04:00:00                    6.26            1.46   \n",
       "\n",
       "   target_nitrogen_oxides  \n",
       "0                  253.96  \n",
       "1                  344.80  \n",
       "2                  339.82  \n",
       "3                  367.22  \n",
       "4                  294.18  "
      ]
     },
     "execution_count": 56,
     "metadata": {},
     "output_type": "execute_result"
    }
   ],
   "source": [
    "result.head()"
   ]
  }
 ],
 "metadata": {
  "kernelspec": {
   "display_name": "Python 3",
   "language": "python",
   "name": "python3"
  },
  "language_info": {
   "codemirror_mode": {
    "name": "ipython",
    "version": 3
   },
   "file_extension": ".py",
   "mimetype": "text/x-python",
   "name": "python",
   "nbconvert_exporter": "python",
   "pygments_lexer": "ipython3",
   "version": "3.8.5"
  }
 },
 "nbformat": 4,
 "nbformat_minor": 4
}
