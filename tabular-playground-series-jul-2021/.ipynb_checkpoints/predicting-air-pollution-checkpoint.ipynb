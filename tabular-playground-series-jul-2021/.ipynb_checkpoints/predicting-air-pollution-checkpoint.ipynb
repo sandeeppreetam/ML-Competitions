{
 "cells": [
  {
   "cell_type": "code",
   "execution_count": 2,
   "metadata": {},
   "outputs": [],
   "source": [
    "import pandas as pd\n",
    "import numpy as np\n",
    "import matplotlib.pyplot as plt\n",
    "import seaborn as sns\n",
    "\n",
    "%matplotlib inline"
   ]
  },
  {
   "cell_type": "code",
   "execution_count": 3,
   "metadata": {},
   "outputs": [],
   "source": [
    "df = pd.read_csv('train.csv')"
   ]
  },
  {
   "cell_type": "markdown",
   "metadata": {},
   "source": [
    "# ETL"
   ]
  },
  {
   "cell_type": "code",
   "execution_count": null,
   "metadata": {},
   "outputs": [],
   "source": [
    "df.head()"
   ]
  },
  {
   "cell_type": "code",
   "execution_count": null,
   "metadata": {
    "scrolled": false
   },
   "outputs": [],
   "source": [
    "pd.plotting.scatter_matrix(df.loc[:,:], figsize=(16, 10))\n",
    "plt.show()"
   ]
  },
  {
   "cell_type": "code",
   "execution_count": null,
   "metadata": {},
   "outputs": [],
   "source": [
    "corr = df.corr()"
   ]
  },
  {
   "cell_type": "code",
   "execution_count": null,
   "metadata": {},
   "outputs": [],
   "source": [
    "sns.heatmap(corr,cmap=sns.diverging_palette(20, 220, n=200))"
   ]
  },
  {
   "cell_type": "code",
   "execution_count": null,
   "metadata": {},
   "outputs": [],
   "source": [
    "abs(corr.target_carbon_monoxide).sort_values()"
   ]
  },
  {
   "cell_type": "code",
   "execution_count": null,
   "metadata": {},
   "outputs": [],
   "source": [
    "abs(corr.target_benzene).sort_values()"
   ]
  },
  {
   "cell_type": "code",
   "execution_count": null,
   "metadata": {},
   "outputs": [],
   "source": [
    "abs(corr.target_nitrogen_oxides).sort_values()"
   ]
  },
  {
   "cell_type": "markdown",
   "metadata": {},
   "source": [
    "# Modelling"
   ]
  },
  {
   "cell_type": "code",
   "execution_count": 10,
   "metadata": {},
   "outputs": [],
   "source": [
    "x = df.loc[:,'deg_C':'sensor_5']\n",
    "test = pd.read_csv('test.csv')"
   ]
  },
  {
   "cell_type": "code",
   "execution_count": 11,
   "metadata": {},
   "outputs": [
    {
     "data": {
      "text/html": [
       "<div>\n",
       "<style scoped>\n",
       "    .dataframe tbody tr th:only-of-type {\n",
       "        vertical-align: middle;\n",
       "    }\n",
       "\n",
       "    .dataframe tbody tr th {\n",
       "        vertical-align: top;\n",
       "    }\n",
       "\n",
       "    .dataframe thead th {\n",
       "        text-align: right;\n",
       "    }\n",
       "</style>\n",
       "<table border=\"1\" class=\"dataframe\">\n",
       "  <thead>\n",
       "    <tr style=\"text-align: right;\">\n",
       "      <th></th>\n",
       "      <th>date_time</th>\n",
       "      <th>deg_C</th>\n",
       "      <th>relative_humidity</th>\n",
       "      <th>absolute_humidity</th>\n",
       "      <th>sensor_1</th>\n",
       "      <th>sensor_2</th>\n",
       "      <th>sensor_3</th>\n",
       "      <th>sensor_4</th>\n",
       "      <th>sensor_5</th>\n",
       "    </tr>\n",
       "  </thead>\n",
       "  <tbody>\n",
       "    <tr>\n",
       "      <th>0</th>\n",
       "      <td>2011-01-01 00:00:00</td>\n",
       "      <td>8.0</td>\n",
       "      <td>41.3</td>\n",
       "      <td>0.4375</td>\n",
       "      <td>1108.8</td>\n",
       "      <td>745.7</td>\n",
       "      <td>797.1</td>\n",
       "      <td>880.0</td>\n",
       "      <td>1273.1</td>\n",
       "    </tr>\n",
       "    <tr>\n",
       "      <th>1</th>\n",
       "      <td>2011-01-01 01:00:00</td>\n",
       "      <td>5.1</td>\n",
       "      <td>51.7</td>\n",
       "      <td>0.4564</td>\n",
       "      <td>1249.5</td>\n",
       "      <td>864.9</td>\n",
       "      <td>687.9</td>\n",
       "      <td>972.8</td>\n",
       "      <td>1714.0</td>\n",
       "    </tr>\n",
       "    <tr>\n",
       "      <th>2</th>\n",
       "      <td>2011-01-01 02:00:00</td>\n",
       "      <td>5.8</td>\n",
       "      <td>51.5</td>\n",
       "      <td>0.4689</td>\n",
       "      <td>1102.6</td>\n",
       "      <td>878.0</td>\n",
       "      <td>693.7</td>\n",
       "      <td>941.9</td>\n",
       "      <td>1300.8</td>\n",
       "    </tr>\n",
       "    <tr>\n",
       "      <th>3</th>\n",
       "      <td>2011-01-01 03:00:00</td>\n",
       "      <td>5.0</td>\n",
       "      <td>52.3</td>\n",
       "      <td>0.4693</td>\n",
       "      <td>1139.7</td>\n",
       "      <td>916.2</td>\n",
       "      <td>725.6</td>\n",
       "      <td>1011.0</td>\n",
       "      <td>1283.0</td>\n",
       "    </tr>\n",
       "    <tr>\n",
       "      <th>4</th>\n",
       "      <td>2011-01-01 04:00:00</td>\n",
       "      <td>4.5</td>\n",
       "      <td>57.5</td>\n",
       "      <td>0.4650</td>\n",
       "      <td>1022.4</td>\n",
       "      <td>838.5</td>\n",
       "      <td>871.5</td>\n",
       "      <td>967.0</td>\n",
       "      <td>1142.3</td>\n",
       "    </tr>\n",
       "  </tbody>\n",
       "</table>\n",
       "</div>"
      ],
      "text/plain": [
       "             date_time  deg_C  relative_humidity  absolute_humidity  sensor_1  \\\n",
       "0  2011-01-01 00:00:00    8.0               41.3             0.4375    1108.8   \n",
       "1  2011-01-01 01:00:00    5.1               51.7             0.4564    1249.5   \n",
       "2  2011-01-01 02:00:00    5.8               51.5             0.4689    1102.6   \n",
       "3  2011-01-01 03:00:00    5.0               52.3             0.4693    1139.7   \n",
       "4  2011-01-01 04:00:00    4.5               57.5             0.4650    1022.4   \n",
       "\n",
       "   sensor_2  sensor_3  sensor_4  sensor_5  \n",
       "0     745.7     797.1     880.0    1273.1  \n",
       "1     864.9     687.9     972.8    1714.0  \n",
       "2     878.0     693.7     941.9    1300.8  \n",
       "3     916.2     725.6    1011.0    1283.0  \n",
       "4     838.5     871.5     967.0    1142.3  "
      ]
     },
     "execution_count": 11,
     "metadata": {},
     "output_type": "execute_result"
    }
   ],
   "source": [
    "test.head()"
   ]
  },
  {
   "cell_type": "code",
   "execution_count": 19,
   "metadata": {},
   "outputs": [],
   "source": [
    "Y1 = df.target_benzene\n",
    "Y2 = df.target_carbon_monoxide\n",
    "Y3 = df.target_nitrogen_oxides"
   ]
  },
  {
   "cell_type": "code",
   "execution_count": 13,
   "metadata": {},
   "outputs": [],
   "source": [
    "from sklearn.neighbors import KNeighborsRegressor\n",
    "knn = KNeighborsRegressor()"
   ]
  },
  {
   "cell_type": "code",
   "execution_count": 14,
   "metadata": {},
   "outputs": [
    {
     "data": {
      "text/plain": [
       "KNeighborsRegressor()"
      ]
     },
     "execution_count": 14,
     "metadata": {},
     "output_type": "execute_result"
    }
   ],
   "source": [
    "knn.fit(x,Y1)"
   ]
  },
  {
   "cell_type": "code",
   "execution_count": 16,
   "metadata": {},
   "outputs": [],
   "source": [
    "Y1_pred = knn.predict(test.loc[:,'deg_C':'sensor_5'])"
   ]
  },
  {
   "cell_type": "code",
   "execution_count": 17,
   "metadata": {},
   "outputs": [],
   "source": [
    "knn.fit(x,Y2)\n",
    "Y2_pred = knn.predict(test.loc[:,'deg_C':'sensor_5'])"
   ]
  },
  {
   "cell_type": "code",
   "execution_count": 20,
   "metadata": {},
   "outputs": [],
   "source": [
    "knn.fit(x,Y3)\n",
    "Y3_pred = knn.predict(test.loc[:,'deg_C':'sensor_5'])"
   ]
  },
  {
   "cell_type": "markdown",
   "metadata": {},
   "source": [
    "# Results"
   ]
  },
  {
   "cell_type": "code",
   "execution_count": 23,
   "metadata": {},
   "outputs": [],
   "source": [
    "df_from_arr = pd.DataFrame(data=[Y1_pred, Y2_pred,Y3_pred]).T"
   ]
  },
  {
   "cell_type": "code",
   "execution_count": 25,
   "metadata": {},
   "outputs": [],
   "source": [
    "df_from_arr.to_csv('submissions_001.csv')"
   ]
  }
 ],
 "metadata": {
  "kernelspec": {
   "display_name": "Python 3",
   "language": "python",
   "name": "python3"
  },
  "language_info": {
   "codemirror_mode": {
    "name": "ipython",
    "version": 3
   },
   "file_extension": ".py",
   "mimetype": "text/x-python",
   "name": "python",
   "nbconvert_exporter": "python",
   "pygments_lexer": "ipython3",
   "version": "3.8.5"
  }
 },
 "nbformat": 4,
 "nbformat_minor": 4
}
